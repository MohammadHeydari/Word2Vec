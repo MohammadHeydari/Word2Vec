{
 "cells": [
  {
   "cell_type": "code",
   "execution_count": 3,
   "metadata": {},
   "outputs": [
    {
     "name": "stderr",
     "output_type": "stream",
     "text": [
      "[nltk_data] Downloading package punkt to\n",
      "[nltk_data]     C:\\Users\\Administrator\\AppData\\Roaming\\nltk_data...\n",
      "[nltk_data]   Unzipping tokenizers\\punkt.zip.\n"
     ]
    },
    {
     "data": {
      "text/plain": [
       "True"
      ]
     },
     "execution_count": 3,
     "metadata": {},
     "output_type": "execute_result"
    }
   ],
   "source": [
    "import nltk\n",
    "nltk.download('punkt')"
   ]
  },
  {
   "cell_type": "code",
   "execution_count": 7,
   "metadata": {},
   "outputs": [
    {
     "name": "stdout",
     "output_type": "stream",
     "text": [
      "Cosine similarity between 'alice' and 'wonderland' - CBOW :  0.99757636\n",
      "Cosine similarity between 'alice' and 'machines' - CBOW :  0.9655446\n",
      "Cosine similarity between 'alice' and 'wonderland' - Skip Gram :  0.9087998\n",
      "Cosine similarity between 'alice' and 'machines' - Skip Gram :  0.9064133\n"
     ]
    }
   ],
   "source": [
    "from nltk.tokenize import sent_tokenize, word_tokenize \n",
    "import warnings \n",
    "  \n",
    "warnings.filterwarnings(action = 'ignore') \n",
    "\n",
    "#کتابخانه مدل زبانی\n",
    "import gensim \n",
    "from gensim.models import Word2Vec \n",
    "  \n",
    "#  خواندن فایل دیتا\n",
    "data = open(\"alice.txt\", \"r\") \n",
    "read_data = data.read() \n",
    "  \n",
    "# جایگذاری اسکیپ کاراکترها با فاصله \n",
    "f = read_data.replace(\"\\n\", \" \") \n",
    "\n",
    "#ساخت لیست داده بصورت خالی\n",
    "the_data = [] \n",
    "  \n",
    "# تکرار به ازای هر جمله در فایل\n",
    "for i in sent_tokenize(f): \n",
    "    temp = [] \n",
    "      \n",
    "    # توکن سازی جملات در قالبب کلمات مجزی\n",
    "    # تبدیل کلمات به حروف کوچک\n",
    "    for j in word_tokenize(i): \n",
    "        temp.append(j.lower()) \n",
    "    \n",
    "    #آپدیت لیست دیتا\n",
    "    the_data.append(temp) \n",
    "  \n",
    "# ساخت مدل (CBOW)\n",
    "cbow = gensim.models.Word2Vec(the_data, min_count = 1,  \n",
    "                              size = 50, window = 10) \n",
    "  \n",
    "# محاسبه شباهت وکتوری بین دو کلمه آلیس و سرزمین عجایب\n",
    "# محاسبه شباهت وکتوری بین دو کلمه آلیس و ماشین ها\n",
    "#چاپ نتایج\n",
    "print(\"Cosine similarity between 'alice' \" + \n",
    "               \"and 'wonderland' - CBOW : \", \n",
    "    cbow.similarity('alice', 'wonderland')) \n",
    "      \n",
    "print(\"Cosine similarity between 'alice' \" +\n",
    "                 \"and 'machines' - CBOW : \", \n",
    "      cbow.similarity('alice', 'machines')) \n",
    "  \n",
    "# ساخت مدل Skip Gram\n",
    "skip_gram = gensim.models.Word2Vec(the_data, min_count = 1, size = 50, \n",
    "                                             window = 10, sg = 1) \n",
    "  \n",
    "# محاسبه شباهت وکتوری بین دو کلمه آلیس و سرزمین عجایب\n",
    "# محاسبه شباهت وکتوری بین دو کلمه آلیس و ماشین ها\n",
    "#چاپ نتایج\n",
    "print(\"Cosine similarity between 'alice' \" +\n",
    "          \"and 'wonderland' - Skip Gram : \", \n",
    "    skip_gram.similarity('alice', 'wonderland')) \n",
    "      \n",
    "print(\"Cosine similarity between 'alice' \" +\n",
    "            \"and 'machines' - Skip Gram : \", \n",
    "      skip_gram.similarity('alice', 'machines')) "
   ]
  }
 ],
 "metadata": {
  "kernelspec": {
   "display_name": "Python 3",
   "language": "python",
   "name": "python3"
  },
  "language_info": {
   "codemirror_mode": {
    "name": "ipython",
    "version": 3
   },
   "file_extension": ".py",
   "mimetype": "text/x-python",
   "name": "python",
   "nbconvert_exporter": "python",
   "pygments_lexer": "ipython3",
   "version": "3.7.3"
  }
 },
 "nbformat": 4,
 "nbformat_minor": 2
}
